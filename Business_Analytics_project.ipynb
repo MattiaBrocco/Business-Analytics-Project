{
 "cells": [
  {
   "cell_type": "code",
   "execution_count": 1,
   "metadata": {
    "ExecuteTime": {
     "end_time": "2020-10-09T23:20:11.607713Z",
     "start_time": "2020-10-09T23:20:07.017651Z"
    }
   },
   "outputs": [],
   "source": [
    "import pandas as pd\n",
    "import numpy as np\n",
    "import seaborn as sns"
   ]
  },
  {
   "cell_type": "code",
   "execution_count": 10,
   "metadata": {
    "ExecuteTime": {
     "end_time": "2020-10-09T23:22:25.738811Z",
     "start_time": "2020-10-09T23:22:25.577977Z"
    },
    "collapsed": true
   },
   "outputs": [
    {
     "data": {
      "text/html": [
       "<div>\n",
       "<style scoped>\n",
       "    .dataframe tbody tr th:only-of-type {\n",
       "        vertical-align: middle;\n",
       "    }\n",
       "\n",
       "    .dataframe tbody tr th {\n",
       "        vertical-align: top;\n",
       "    }\n",
       "\n",
       "    .dataframe thead th {\n",
       "        text-align: right;\n",
       "    }\n",
       "</style>\n",
       "<table border=\"1\" class=\"dataframe\">\n",
       "  <thead>\n",
       "    <tr style=\"text-align: right;\">\n",
       "      <th></th>\n",
       "      <th>codcliente</th>\n",
       "      <th>si2014</th>\n",
       "      <th>abb13</th>\n",
       "    </tr>\n",
       "  </thead>\n",
       "  <tbody>\n",
       "    <tr>\n",
       "      <th>0</th>\n",
       "      <td>100005</td>\n",
       "      <td>0</td>\n",
       "      <td>2013-01-27</td>\n",
       "    </tr>\n",
       "    <tr>\n",
       "      <th>1</th>\n",
       "      <td>100006</td>\n",
       "      <td>1</td>\n",
       "      <td>2013-01-14</td>\n",
       "    </tr>\n",
       "    <tr>\n",
       "      <th>2</th>\n",
       "      <td>100007</td>\n",
       "      <td>0</td>\n",
       "      <td>2012-12-05</td>\n",
       "    </tr>\n",
       "    <tr>\n",
       "      <th>3</th>\n",
       "      <td>100017</td>\n",
       "      <td>1</td>\n",
       "      <td>2012-12-10</td>\n",
       "    </tr>\n",
       "    <tr>\n",
       "      <th>4</th>\n",
       "      <td>100020</td>\n",
       "      <td>0</td>\n",
       "      <td>2012-12-09</td>\n",
       "    </tr>\n",
       "  </tbody>\n",
       "</table>\n",
       "</div>"
      ],
      "text/plain": [
       "   codcliente  si2014       abb13\n",
       "0      100005       0  2013-01-27\n",
       "1      100006       1  2013-01-14\n",
       "2      100007       0  2012-12-05\n",
       "3      100017       1  2012-12-10\n",
       "4      100020       0  2012-12-09"
      ]
     },
     "execution_count": 10,
     "metadata": {},
     "output_type": "execute_result"
    }
   ],
   "source": [
    "data1 = pd.read_csv(\"data1.csv\")\n",
    "\n",
    "# \"abb14\" and \"ultimo_ing.x\" are droped due to their NaN values\n",
    "data1.drop([\"Unnamed: 0\", \"abb14\", \"ultimo_ing.x\"], axis = 1, inplace = True)\n",
    "data1.head()"
   ]
  },
  {
   "cell_type": "markdown",
   "metadata": {},
   "source": [
    "-----------"
   ]
  },
  {
   "cell_type": "code",
   "execution_count": 2,
   "metadata": {
    "ExecuteTime": {
     "end_time": "2020-10-09T23:20:12.790721Z",
     "start_time": "2020-10-09T23:20:11.612272Z"
    }
   },
   "outputs": [
    {
     "data": {
      "text/html": [
       "<div>\n",
       "<style scoped>\n",
       "    .dataframe tbody tr th:only-of-type {\n",
       "        vertical-align: middle;\n",
       "    }\n",
       "\n",
       "    .dataframe tbody tr th {\n",
       "        vertical-align: top;\n",
       "    }\n",
       "\n",
       "    .dataframe thead th {\n",
       "        text-align: right;\n",
       "    }\n",
       "</style>\n",
       "<table border=\"1\" class=\"dataframe\">\n",
       "  <thead>\n",
       "    <tr style=\"text-align: right;\">\n",
       "      <th></th>\n",
       "      <th>codcliente</th>\n",
       "      <th>data_inizio</th>\n",
       "      <th>importo</th>\n",
       "      <th>agenzia_tipo</th>\n",
       "      <th>comune</th>\n",
       "      <th>nuovo_abb</th>\n",
       "      <th>age</th>\n",
       "      <th>femmina</th>\n",
       "      <th>BANCOMAT</th>\n",
       "      <th>CARTA DI CREDITO</th>\n",
       "      <th>CONTANTI</th>\n",
       "      <th>NESSUN PAGAMENTO</th>\n",
       "    </tr>\n",
       "  </thead>\n",
       "  <tbody>\n",
       "    <tr>\n",
       "      <th>0</th>\n",
       "      <td>90095</td>\n",
       "      <td>09/12/2012 00:00</td>\n",
       "      <td>28</td>\n",
       "      <td>PUNTO INFORMATIVO</td>\n",
       "      <td>TORINO</td>\n",
       "      <td>1</td>\n",
       "      <td>28</td>\n",
       "      <td>0</td>\n",
       "      <td>0</td>\n",
       "      <td>0</td>\n",
       "      <td>1</td>\n",
       "      <td>0</td>\n",
       "    </tr>\n",
       "    <tr>\n",
       "      <th>1</th>\n",
       "      <td>89662</td>\n",
       "      <td>06/01/2013 00:00</td>\n",
       "      <td>28</td>\n",
       "      <td>PUNTO INFORMATIVO</td>\n",
       "      <td>TORINO</td>\n",
       "      <td>1</td>\n",
       "      <td>28</td>\n",
       "      <td>0</td>\n",
       "      <td>0</td>\n",
       "      <td>0</td>\n",
       "      <td>1</td>\n",
       "      <td>0</td>\n",
       "    </tr>\n",
       "    <tr>\n",
       "      <th>2</th>\n",
       "      <td>202278</td>\n",
       "      <td>27/01/2013 00:00</td>\n",
       "      <td>28</td>\n",
       "      <td>PUNTO INFORMATIVO</td>\n",
       "      <td>TORINO</td>\n",
       "      <td>1</td>\n",
       "      <td>21</td>\n",
       "      <td>0</td>\n",
       "      <td>1</td>\n",
       "      <td>0</td>\n",
       "      <td>0</td>\n",
       "      <td>0</td>\n",
       "    </tr>\n",
       "    <tr>\n",
       "      <th>3</th>\n",
       "      <td>269895</td>\n",
       "      <td>02/12/2012 00:00</td>\n",
       "      <td>28</td>\n",
       "      <td>PUNTO COMMERCIALE</td>\n",
       "      <td>SVIZZERA</td>\n",
       "      <td>1</td>\n",
       "      <td>27</td>\n",
       "      <td>0</td>\n",
       "      <td>0</td>\n",
       "      <td>0</td>\n",
       "      <td>1</td>\n",
       "      <td>0</td>\n",
       "    </tr>\n",
       "    <tr>\n",
       "      <th>4</th>\n",
       "      <td>88177</td>\n",
       "      <td>26/01/2013 00:00</td>\n",
       "      <td>28</td>\n",
       "      <td>PUNTO INFORMATIVO</td>\n",
       "      <td>TORINO</td>\n",
       "      <td>1</td>\n",
       "      <td>30</td>\n",
       "      <td>0</td>\n",
       "      <td>0</td>\n",
       "      <td>0</td>\n",
       "      <td>1</td>\n",
       "      <td>0</td>\n",
       "    </tr>\n",
       "  </tbody>\n",
       "</table>\n",
       "</div>"
      ],
      "text/plain": [
       "   codcliente       data_inizio  importo       agenzia_tipo    comune  \\\n",
       "0       90095  09/12/2012 00:00       28  PUNTO INFORMATIVO    TORINO   \n",
       "1       89662  06/01/2013 00:00       28  PUNTO INFORMATIVO    TORINO   \n",
       "2      202278  27/01/2013 00:00       28  PUNTO INFORMATIVO    TORINO   \n",
       "3      269895  02/12/2012 00:00       28  PUNTO COMMERCIALE  SVIZZERA   \n",
       "4       88177  26/01/2013 00:00       28  PUNTO INFORMATIVO    TORINO   \n",
       "\n",
       "   nuovo_abb  age  femmina  BANCOMAT  CARTA DI CREDITO  CONTANTI  \\\n",
       "0          1   28        0         0                 0         1   \n",
       "1          1   28        0         0                 0         1   \n",
       "2          1   21        0         1                 0         0   \n",
       "3          1   27        0         0                 0         1   \n",
       "4          1   30        0         0                 0         1   \n",
       "\n",
       "   NESSUN PAGAMENTO  \n",
       "0                 0  \n",
       "1                 0  \n",
       "2                 0  \n",
       "3                 0  \n",
       "4                 0  "
      ]
     },
     "execution_count": 2,
     "metadata": {},
     "output_type": "execute_result"
    }
   ],
   "source": [
    "an13 = pd.read_csv(\"an13.csv\", na_values = \"NA\", encoding = \"latin1\")\n",
    "\n",
    "an13.drop([\"Unnamed: 0\", \"professione\"], axis = 1, inplace = True)\n",
    "an13.drop([\"sconto\", \"riduzione\",\"agenzia\",\"cap\"], axis = 1, inplace = True)\n",
    "\n",
    "# Convert \"data di nascita\" into age at the end of year 2013.\n",
    "# Before it was necessary to replace 2 values that had \"-\" with\n",
    "# the median of the overall year of birth distribution (=1959).\n",
    "an13[\"data_nascita\"] = [int(x) if \"-\" not in x else 1959 for x in an13[\"data_nascita\"]]\n",
    "an13[\"age\"] = [2013-x for x in an13[\"data_nascita\"]]\n",
    "\n",
    "# \"nuovo_abb\" is alrady dichotomous and with full values. Just convert it into 0/1\n",
    "an13[\"nuovo_abb\"] = [1 if x == \"NUOVO ABBONATO\" else 0 for x in an13[\"nuovo_abb\"]]\n",
    "\n",
    "# \"sesso\" has missing values. We filled the according to the distribution of non-NaN values\n",
    "count_sex = an13[\"sesso\"].value_counts(normalize=True)\n",
    "missing_sex = an13[\"sesso\"].isnull()\n",
    "an13.loc[an13[\"sesso\"].isnull(),\"sesso\"] = np.random.choice(count_sex.index,\n",
    "                                                            size = len(an13[missing_sex]),\n",
    "                                                            p = count_sex.values)\n",
    "\n",
    "# Then the 0/1 variable is created according to sex (female = 1)\n",
    "an13[\"femmina\"] = [1 if x == \"F\" else 0 for x in an13[\"sesso\"]]\n",
    "# Tipo_pag is converted into 4 dummies\n",
    "an13 = pd.concat([an13, pd.get_dummies(an13[\"tipo_pag\"], drop_first = True)], axis = 1)\n",
    "an13.drop([\"sesso\",\"tipo_pag\",\"data_nascita\"], axis = 1, inplace = True)\n",
    "\n",
    "an13.head()"
   ]
  },
  {
   "cell_type": "code",
   "execution_count": 3,
   "metadata": {
    "ExecuteTime": {
     "end_time": "2020-10-09T23:20:26.643871Z",
     "start_time": "2020-10-09T23:20:20.443671Z"
    }
   },
   "outputs": [],
   "source": [
    "# The following dataset, created from a .json file, is needed to\n",
    "# reduce the dimensionality of the column \"comune\".\n",
    "comunes = pd.read_csv(\"comuni_done.csv\", sep = \";\")\n",
    "comunes.drop([\"Unnamed: 0\", \"codice\",\"zona__codice\",\"zona__nome\",\n",
    "              \"regione__codice\",\"regione__nome\",\"provincia__codice\",\"provincia__nome\",\n",
    "              \"codiceCatastale\",\"CAP\",\"popolazione\"], axis = 1, inplace = True)\n",
    "comunes[\"nome\"] = comunes[\"nome\"].str.upper()\n",
    "comunes.rename({\"nome\": \"comune\"}, axis = 1, inplace = True)\n",
    "\n",
    "# We performed a merge on the column \"comune\" of an13 dataframe,\n",
    "# then we adjusted the result by creating a dictionary with the unmatched\n",
    "# values of that column (mainly foregn countries).\n",
    "an13 = an13.merge(comunes, how = \"left\", on = \"comune\")\n",
    "unmatched_dict = {\"FP\":[\"SVIZZERA\",\"DATO MANCANTE\",\"SPAGNA\",\"FRANCIA\",\"GERMANIA\",\n",
    "                        \"CHATILLON\",\"BOLZANO/BOZEN\",\"MONTORO INFERIORE\",\"ARGENTINA\",\n",
    "                        \"CAGNO\",\"LANZO D'INTELVI\",\"ANTEY-SAINT-ANDRÈ\",\"HONE\",\"RIVIGNANO\",\n",
    "                        \"PRÈ-SAINT-DIDIER\",\"NEGRAR\",\"MONTORO SUPERIORE\",\"MONACO\",\"BELGIO\",\n",
    "                        \"DUINO-AURISINA\",\"CINA REPUBBLICA POPOLARE\",\"LARI\",\"LU\",\"SAVIGNO\",\n",
    "                        \"SANTO STINO DI LIVENZA\",\"FIGLINE VALDARNO\",\"CAPACCIO\",\"PAESI BASSI\",\n",
    "                        \"GRESSONEY LA TRINITE'\",\"BREMBILLA\",\"COLBORDOLO\",\"STATI UNITI D'AMERICA\",\n",
    "                        \"ROMANIA\",\"LUSSEMBURGO\",\"MESSICO\"],\n",
    "                  \"TO\":[\"LEINÌ\",\"VICO CANAVESE\",\"CAMPIGLIONE-FENILE\",\"ALICE SUPERIORE\",\"PECCO\"]}\n",
    "\n",
    "# The following column is to replace NaN values of \"sigla\" according to the\n",
    "# dictionary above, and eventually to reduce its dimensionality to 3\n",
    "def provs(col):\n",
    "    col = list(col)\n",
    "    l = []\n",
    "    for x in range(len(col)):\n",
    "        if type(col[x]) != str:\n",
    "            if an13.loc[x][\"comune\"] in unmatched_dict[\"FP\"]: l += [\"FP\"]\n",
    "            elif an13.loc[x][\"comune\"] in unmatched_dict[\"TO\"]: l += [\"TO\"]\n",
    "            else: l += [\"PI\"]\n",
    "        else: l += [ col[x] ]\n",
    "    m = []\n",
    "    for el in l:\n",
    "        if el in [\"AL\",\"AT\",\"BI\",\"CN\",\"NO\",\"VB\",\"VC\"]: m += [\"PI\"]\n",
    "        elif el == \"TO\": m += [el]\n",
    "        else: m += [\"FP\"]    \n",
    "    return m\n",
    "\n",
    "an13[\"sigla\"] = provs(an13[\"sigla\"])\n",
    "# From the updated column \"sigla\" it was possible to create\n",
    "# the dummies and attached them on the right side of an13.\n",
    "an13 = pd.concat([an13, pd.get_dummies(an13[\"sigla\"], drop_first = True)], axis = 1)\n",
    "an13.drop([\"comune\",\"sigla\"], axis = 1, inplace = True)\n",
    "\n",
    "# Finally, the last column whose dimensionality needed a reduction was \n",
    "# \"agenzia_tipo\", that was broken down into 5 aspects based on conceptual\n",
    "# clusters of the original values. Then the column is added to \"an13\" and dropped\n",
    "def reduce_agency(col):\n",
    "    l = []\n",
    "    for x in col:\n",
    "        if x in [\"PUNTO INFORMATIVO\",\"DATO MANCANTE\",\"PUNTO COMMERCIALE\"]:\n",
    "            l += [\"PUNTO INFORMATIVO/COMMERCIALE/NAN\"]\n",
    "        elif x in [\"MUSEO\",\"TEATRI\",\"EDICOLE\"]:\n",
    "            l += [\"MUSEO/TEATRI/EDICOLE\"]\n",
    "        elif x in [\"OFFERTA SCUOLE\",\"OFFERTA AZIENDA\",\"GRUPPO D'ACQUISTO\"]:\n",
    "            l += [\"OFFERTE/GRUPPI\"]\n",
    "        elif x == \"ACQUISTO ONLINE\":\n",
    "            l += [\"ACQUISTO ONLINE\"]\n",
    "        else:\n",
    "            l += [\"CRAL/TESSERE ORO/ASSOCIAZIONE\"]\n",
    "    return l\n",
    "\n",
    "an13[\"agenzia_tipo\"] = reduce_agency(an13[\"agenzia_tipo\"])\n",
    "\n",
    "an13 = pd.concat([an13, pd.get_dummies(an13[\"agenzia_tipo\"], drop_first = True)], axis = 1)\n",
    "an13.drop([\"agenzia_tipo\"], axis = 1, inplace = True)\n",
    "\n",
    "# At last, we created the column of the day of the year\n",
    "# in which a customer purchased their subscription.\n",
    "an13[\"data_inizio\"] = pd.to_datetime(an13[\"data_inizio\"], format = \"%d/%m/%Y %H:%M\")\n",
    "an13[\"day_y_purchase\"] = [int(x.strftime('%j')) for x in an13[\"data_inizio\"]]\n",
    "an13.drop(\"data_inizio\", axis = 1, inplace = True)"
   ]
  },
  {
   "cell_type": "markdown",
   "metadata": {
    "ExecuteTime": {
     "end_time": "2020-10-09T22:24:28.097905Z",
     "start_time": "2020-10-09T22:24:28.063747Z"
    }
   },
   "source": [
    "------------------"
   ]
  },
  {
   "cell_type": "code",
   "execution_count": null,
   "metadata": {
    "ExecuteTime": {
     "end_time": "2020-10-09T18:03:54.430494Z",
     "start_time": "2020-10-09T18:03:51.835140Z"
    }
   },
   "outputs": [],
   "source": [
    "in13 = pd.read_csv(\"in13.csv\", na_values = \"NA\")\n",
    "in13.drop(\"Unnamed: 0\", axis = 1, inplace = True)\n",
    "in13.rename({\"CodCliente\": \"codcliente\"}, axis = 1, inplace = True)\n",
    "\n",
    "un_mus = pd.read_excel(\"unallocated_museums.xlsx\")\n",
    "in13 = in13.merge(un_mus, how = \"left\", on = \"museo\")\n",
    "in13.drop([\"comune.museo\",\"prov.museo\"], axis = 1, inplace = True)\n",
    "in13.head()"
   ]
  },
  {
   "cell_type": "code",
   "execution_count": null,
   "metadata": {
    "ExecuteTime": {
     "end_time": "2020-10-09T19:15:23.103246Z",
     "start_time": "2020-10-09T19:15:23.051432Z"
    }
   },
   "outputs": [],
   "source": [
    "in13[\"tipo.museo\"].value_counts()"
   ]
  },
  {
   "cell_type": "code",
   "execution_count": null,
   "metadata": {
    "ExecuteTime": {
     "end_time": "2020-10-09T18:39:21.609093Z",
     "start_time": "2020-10-09T18:39:21.323415Z"
    }
   },
   "outputs": [],
   "source": [
    "a = pd.to_datetime(in13[\"datai\"], format = \"%d/%m/%Y\")\n",
    "b = pd.to_datetime(in13[\"orai\"], format = \"%H:%M\")"
   ]
  },
  {
   "cell_type": "code",
   "execution_count": null,
   "metadata": {
    "ExecuteTime": {
     "end_time": "2020-10-09T18:43:06.778669Z",
     "start_time": "2020-10-09T18:43:06.774627Z"
    }
   },
   "outputs": [],
   "source": [
    "for x in a:\n",
    "    print(  )"
   ]
  },
  {
   "cell_type": "code",
   "execution_count": null,
   "metadata": {
    "ExecuteTime": {
     "end_time": "2020-10-09T19:13:30.863256Z",
     "start_time": "2020-10-09T19:07:42.611406Z"
    }
   },
   "outputs": [],
   "source": [
    "# From \"in13\", we've built a new dataframe with the following columns:\n",
    "# - codcliente\n",
    "# - frequenza: number of times every customer went to museums\n",
    "# - variety: how many different museums they have visited\n",
    "# - passione: given different museum's categories, this score measures how many times a customer\n",
    "#             prefers a category. If they did only one visit, the score is set just below the 0.8 thershold\n",
    "# - appassionato: takes the \"passione\" scores into a dichotomous variable at a 0.8 threshold.\n",
    "#                 The result is that only 20% of the customer is defined as passionate, which may be closed to reality\n",
    "\n",
    "in13_custom = pd.DataFrame({\"codcliente\":pd.DataFrame(in13[\"codcliente\"].value_counts()).index,\n",
    "                            \"frequenza\":pd.DataFrame(in13[\"codcliente\"].value_counts())[\"codcliente\"]})\n",
    "                            \n",
    "in13_custom[\"variety\"] = [ len( in13[in13[\"codcliente\"] == x][\"museo\"].unique() )\n",
    "                          for x in in13_custom[\"codcliente\"] ]\n",
    "\n",
    "in13_custom[\"passione\"] = [ (in13[in13[\"codcliente\"] == x][\"tipo.museo\"].value_counts()[0])/(in13_custom[in13_custom[\"codcliente\"] == x][\"frequenza\"].values[0] )\n",
    "                           for x in in13_custom[\"codcliente\"] ]\n",
    "\n",
    "in13_custom[\"passione\"] = [in13_custom.loc[x][\"passione\"] if in13_custom.loc[x][\"frequenza\"] > 1 else 0.79\n",
    "                           for x in in13_custom[\"codcliente\"] ]\n",
    "\n",
    "in13_custom[\"appassionato\"] = [1 if x >= 0.8 else 0 for x in in13_custom[\"passione\"] ]\n",
    "\n",
    "in13_custom"
   ]
  },
  {
   "cell_type": "markdown",
   "metadata": {},
   "source": [
    "-------------"
   ]
  },
  {
   "cell_type": "code",
   "execution_count": null,
   "metadata": {},
   "outputs": [],
   "source": []
  }
 ],
 "metadata": {
  "kernelspec": {
   "display_name": "Python 3",
   "language": "python",
   "name": "python3"
  },
  "language_info": {
   "codemirror_mode": {
    "name": "ipython",
    "version": 3
   },
   "file_extension": ".py",
   "mimetype": "text/x-python",
   "name": "python",
   "nbconvert_exporter": "python",
   "pygments_lexer": "ipython3",
   "version": "3.7.6"
  }
 },
 "nbformat": 4,
 "nbformat_minor": 4
}
